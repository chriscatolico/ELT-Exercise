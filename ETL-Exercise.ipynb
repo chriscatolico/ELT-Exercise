{
 "cells": [
  {
   "cell_type": "code",
   "execution_count": 38,
   "metadata": {},
   "outputs": [],
   "source": [
    "from bs4 import BeautifulSoup\n",
    "import requests\n",
    "import pandas as pd\n",
    "from splinter import Browser\n",
    "from splinter.exceptions import ElementDoesNotExist"
   ]
  },
  {
   "cell_type": "code",
   "execution_count": 39,
   "metadata": {},
   "outputs": [],
   "source": [
    "executable_path = {'executable_path': 'chromedriver.exe'}\n",
    "browser = Browser('chrome', **executable_path, headless=False)"
   ]
  },
  {
   "cell_type": "code",
   "execution_count": 40,
   "metadata": {},
   "outputs": [],
   "source": [
    "# URL of page to be scraped\n",
    "url = 'https://clinicaltrials.gov/ct2/search/browse?brwse=spns_alpha_all'\n",
    "browser.visit(url)"
   ]
  },
  {
   "cell_type": "code",
   "execution_count": 41,
   "metadata": {},
   "outputs": [],
   "source": [
    "html = browser.html\n",
    "soup = BeautifulSoup(html, 'html.parser')\n",
    "table = soup.find_all(id='theDataTable')"
   ]
  },
  {
   "cell_type": "code",
   "execution_count": 43,
   "metadata": {},
   "outputs": [],
   "source": [
    "page = pd.read_html(html)"
   ]
  },
  {
   "cell_type": "code",
   "execution_count": 44,
   "metadata": {},
   "outputs": [
    {
     "data": {
      "text/plain": [
       "[                                Sponsor/Collaborators  Studies\n",
       " 0       Ärztliche Zentrum für Qualität in der Medizin        1\n",
       " 1                              Åbo Akademi University        5\n",
       " 2                            Ångstrom Pharmaceuticals        2\n",
       " 3                                           Århus Amt        1\n",
       " 4                   Çanakkale Onsekiz Mart University        2\n",
       " 5                        Çankırı Karatekin University        3\n",
       " 6                  École Normale Supérieure de Cachan        2\n",
       " 7                               Örebro County Council       29\n",
       " 8                               Örebro Läns Landsting        3\n",
       " 9                           Örebro University, Sweden       57\n",
       " 10                                   Örestadskliniken        1\n",
       " 11                                          Össur Ehf        5\n",
       " 12  Österreichische Gesellschaft für Bipolare Erkr...        1\n",
       " 13                                     Östra Hospital        1\n",
       " 14  Østdansk Sundhedsvidenskabeligt Forskningsforu...        1\n",
       " 15                          České Budějovice Hospital        2\n",
       " 16                                   İnonu University        4\n",
       " 17                        Żelazna Medical Centre, LLC        1\n",
       " 18                             01 Expert Systems, LLC        1\n",
       " 19   105 Hospital of Chinese People's Liberation Army        1\n",
       " 20                 11 Health and Technologies Limited        1\n",
       " 21  113th Hospital of Chinese People's Liberation ...        2\n",
       " 22            115 People's Hospital, Ho Chi Minh City        1\n",
       " 23                 1199SEIU Benefit and Pension Funds        1\n",
       " 24                              150th Hospital of PLA        3]"
      ]
     },
     "execution_count": 44,
     "metadata": {},
     "output_type": "execute_result"
    }
   ],
   "source": [
    "page"
   ]
  },
  {
   "cell_type": "code",
   "execution_count": null,
   "metadata": {},
   "outputs": [],
   "source": []
  },
  {
   "cell_type": "code",
   "execution_count": null,
   "metadata": {},
   "outputs": [],
   "source": []
  },
  {
   "cell_type": "code",
   "execution_count": null,
   "metadata": {},
   "outputs": [],
   "source": []
  },
  {
   "cell_type": "code",
   "execution_count": null,
   "metadata": {},
   "outputs": [],
   "source": []
  }
 ],
 "metadata": {
  "kernelspec": {
   "display_name": "Python 3",
   "language": "python",
   "name": "python3"
  },
  "language_info": {
   "codemirror_mode": {
    "name": "ipython",
    "version": 3
   },
   "file_extension": ".py",
   "mimetype": "text/x-python",
   "name": "python",
   "nbconvert_exporter": "python",
   "pygments_lexer": "ipython3",
   "version": "3.7.1"
  }
 },
 "nbformat": 4,
 "nbformat_minor": 2
}
